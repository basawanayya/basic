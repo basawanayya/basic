{
 "cells": [
  {
   "cell_type": "code",
   "execution_count": 2,
   "metadata": {},
   "outputs": [
    {
     "name": "stdout",
     "output_type": "stream",
     "text": [
      "~freq_in_hz~~~write_all_zero~~~~: 5135465465132168546546\n",
      "~~~~.....~~~~~.....~~~~~.....~~~~.....~~~~~.....~~~~~.....~~~~.....~~~~~.....~~~~~.....~~~~~\n",
      "wave_len_in_m   5.841729479769348e-14 m\n"
     ]
    }
   ],
   "source": [
    "a = int(input(\"~freq_in_hz~~~write_all_zero~~~~: \"))\n",
    "if a in range (1,10**4):\n",
    "    print(\"Radio\")\n",
    "    print('Approximate Scale of Wavelength of Buildings to Humans')\n",
    "if a in range(10**4,10**8):\n",
    "    print('Microwaves')\n",
    "    print('Approximate Scale of Wavelength of Butterflies')\n",
    "if a in range(10**8,10**12):\n",
    "    print('Infrared')\n",
    "    print('Approximate Scale of Wavelength of Needle Point')\n",
    "if a in range(10**12,10**15):\n",
    "    print('Visible')\n",
    "    print('Approximate Scale of Wavelength of Protozoans')\n",
    "if a in range(10**15,10**16):\n",
    "    print('UV rays')\n",
    "    print('Approximate Scale of Wavelength of Molecules')\n",
    "if a in range(10**16,10**18):\n",
    "    print('X-rays')\n",
    "    print('Approximate Scale of Wavelength of Atoms')\n",
    "if a in range(10**18,10**20):\n",
    "    print('Gamma rays')\n",
    "    print('Approximate Scale of Wavelength of Atomic Nuclei')\n",
    "else:\n",
    "    print('~~~~.....~~~~~.....~~~~~.....~~~~.....~~~~~.....~~~~~.....~~~~.....~~~~~.....~~~~~.....~~~~~')\n",
    "\n",
    "    \n",
    "wave_len = 3*10**8/a\n",
    "print('wave_len_in_m', ' ' ,wave_len, 'm')\n"
   ]
  },
  {
   "cell_type": "code",
   "execution_count": null,
   "metadata": {},
   "outputs": [],
   "source": []
  }
 ],
 "metadata": {
  "kernelspec": {
   "display_name": "Python 3",
   "language": "python",
   "name": "python3"
  },
  "language_info": {
   "codemirror_mode": {
    "name": "ipython",
    "version": 3
   },
   "file_extension": ".py",
   "mimetype": "text/x-python",
   "name": "python",
   "nbconvert_exporter": "python",
   "pygments_lexer": "ipython3",
   "version": "3.7.4"
  }
 },
 "nbformat": 4,
 "nbformat_minor": 2
}
